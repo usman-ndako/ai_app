{
 "cells": [
  {
   "cell_type": "code",
   "execution_count": 4,
   "id": "fca43727",
   "metadata": {},
   "outputs": [
    {
     "name": "stdout",
     "output_type": "stream",
     "text": [
      "✅ Data Loaded Successfully\n",
      "        date                datetime  hour_of_day cash_type  \\\n",
      "0 2024-03-01 2024-03-01 10:15:50.520           10      card   \n",
      "1 2024-03-01 2024-03-01 12:19:22.539           12      card   \n",
      "2 2024-03-01 2024-03-01 12:20:18.089           12      card   \n",
      "3 2024-03-01 2024-03-01 13:46:33.006           13      card   \n",
      "4 2024-03-01 2024-03-01 13:48:14.626           13      card   \n",
      "\n",
      "                  card  money    coffee_name Time_of_Day Weekday Month_name  \\\n",
      "0  ANON-0000-0000-0001   38.7          Latte     Morning     Fri        Mar   \n",
      "1  ANON-0000-0000-0002   38.7  Hot Chocolate   Afternoon     Fri        Mar   \n",
      "2  ANON-0000-0000-0002   38.7  Hot Chocolate   Afternoon     Fri        Mar   \n",
      "3  ANON-0000-0000-0003   28.9      Americano   Afternoon     Fri        Mar   \n",
      "4  ANON-0000-0000-0004   38.7          Latte   Afternoon     Fri        Mar   \n",
      "\n",
      "   Weekdaysort  Monthsort  \n",
      "0            5          3  \n",
      "1            5          3  \n",
      "2            5          3  \n",
      "3            5          3  \n",
      "4            5          3  \n",
      "<class 'pandas.core.frame.DataFrame'>\n",
      "RangeIndex: 3636 entries, 0 to 3635\n",
      "Data columns (total 12 columns):\n",
      " #   Column       Non-Null Count  Dtype         \n",
      "---  ------       --------------  -----         \n",
      " 0   date         3636 non-null   datetime64[ns]\n",
      " 1   datetime     3636 non-null   datetime64[ns]\n",
      " 2   hour_of_day  3636 non-null   int64         \n",
      " 3   cash_type    3636 non-null   object        \n",
      " 4   card         3547 non-null   object        \n",
      " 5   money        3636 non-null   float64       \n",
      " 6   coffee_name  3636 non-null   object        \n",
      " 7   Time_of_Day  3636 non-null   object        \n",
      " 8   Weekday      3636 non-null   object        \n",
      " 9   Month_name   3636 non-null   object        \n",
      " 10  Weekdaysort  3636 non-null   int64         \n",
      " 11  Monthsort    3636 non-null   int64         \n",
      "dtypes: datetime64[ns](2), float64(1), int64(3), object(6)\n",
      "memory usage: 341.0+ KB\n"
     ]
    }
   ],
   "source": [
    "import pandas as pd\n",
    "\n",
    "# Load dataset\n",
    "df = pd.read_excel(\"Coffe_sales.xlsx\")\n",
    "\n",
    "# Display the first few rows\n",
    "print(\"✅ Data Loaded Successfully\")\n",
    "print(df.head())\n",
    "\n",
    "# Check basic information\n",
    "df.info()\n"
   ]
  },
  {
   "cell_type": "code",
   "execution_count": 5,
   "id": "cc708ede",
   "metadata": {},
   "outputs": [
    {
     "name": "stdout",
     "output_type": "stream",
     "text": [
      "✅ Data cleaned and standardized!\n",
      "<class 'pandas.core.frame.DataFrame'>\n",
      "RangeIndex: 3636 entries, 0 to 3635\n",
      "Data columns (total 12 columns):\n",
      " #   Column       Non-Null Count  Dtype         \n",
      "---  ------       --------------  -----         \n",
      " 0   date         3636 non-null   datetime64[ns]\n",
      " 1   datetime     3636 non-null   datetime64[ns]\n",
      " 2   hour_of_day  3636 non-null   int64         \n",
      " 3   cash_type    3636 non-null   object        \n",
      " 4   card         3547 non-null   object        \n",
      " 5   money        3636 non-null   float64       \n",
      " 6   coffee_name  3636 non-null   object        \n",
      " 7   Time_of_Day  3636 non-null   object        \n",
      " 8   Weekday      3636 non-null   object        \n",
      " 9   Month_name   3636 non-null   object        \n",
      " 10  Weekdaysort  3636 non-null   int64         \n",
      " 11  Monthsort    3636 non-null   int64         \n",
      "dtypes: datetime64[ns](2), float64(1), int64(3), object(6)\n",
      "memory usage: 341.0+ KB\n"
     ]
    }
   ],
   "source": [
    "# Convert date columns to datetime\n",
    "df['date'] = pd.to_datetime(df['date'])\n",
    "df['datetime'] = pd.to_datetime(df['datetime'])\n",
    "\n",
    "# Handle missing values\n",
    "df = df.dropna(subset=['money', 'coffee_name'])\n",
    "\n",
    "# Ensure numeric column types\n",
    "df['money'] = df['money'].astype(float)\n",
    "\n",
    "# Clean whitespace in string columns\n",
    "df['coffee_name'] = df['coffee_name'].str.strip()\n",
    "\n",
    "print(\"✅ Data cleaned and standardized!\")\n",
    "df.info()\n"
   ]
  },
  {
   "cell_type": "code",
   "execution_count": 6,
   "id": "97f0e075",
   "metadata": {},
   "outputs": [],
   "source": [
    "# Total sales per day\n",
    "daily_sales = df.groupby('date')['money'].sum().reset_index()\n",
    "\n",
    "# Total sales by coffee type\n",
    "coffee_sales = df.groupby('coffee_name')['money'].sum().reset_index().sort_values(by='money', ascending=False)\n",
    "\n",
    "# Payment method breakdown\n",
    "payment_types = df.groupby('cash_type')['money'].sum().reset_index()\n"
   ]
  },
  {
   "cell_type": "code",
   "execution_count": 7,
   "id": "f2880613",
   "metadata": {},
   "outputs": [
    {
     "name": "stdout",
     "output_type": "stream",
     "text": [
      "✅ All parsed summaries saved successfully!\n"
     ]
    }
   ],
   "source": [
    "daily_sales.to_csv(\"daily_sales_summary.csv\", index=False)\n",
    "coffee_sales.to_csv(\"coffee_sales_summary.csv\", index=False)\n",
    "payment_types.to_csv(\"payment_breakdown.csv\", index=False)\n",
    "\n",
    "print(\"✅ All parsed summaries saved successfully!\")\n"
   ]
  },
  {
   "cell_type": "code",
   "execution_count": 8,
   "id": "2f0d185f",
   "metadata": {},
   "outputs": [
    {
     "name": "stdout",
     "output_type": "stream",
     "text": [
      "☕ Top 5 Best-Selling Coffee Types:\n",
      "           coffee_name     money\n",
      "7                Latte  27866.30\n",
      "1  Americano with Milk  25269.12\n",
      "2           Cappuccino  18034.14\n",
      "0            Americano  15062.26\n",
      "6        Hot Chocolate  10172.46\n",
      "\n",
      "💳 Payment Breakdown:\n",
      "  cash_type      money\n",
      "0      card  112245.58\n",
      "1      cash    3186.00\n",
      "\n",
      "📆 Total Days Recorded: 381\n",
      "💰 Total Revenue: $ 115431.58\n"
     ]
    }
   ],
   "source": [
    "print(\"☕ Top 5 Best-Selling Coffee Types:\")\n",
    "print(coffee_sales.head(5))\n",
    "\n",
    "print(\"\\n💳 Payment Breakdown:\")\n",
    "print(payment_types)\n",
    "\n",
    "print(\"\\n📆 Total Days Recorded:\", df['date'].nunique())\n",
    "print(\"💰 Total Revenue: $\", round(df['money'].sum(), 2))\n"
   ]
  }
 ],
 "metadata": {
  "kernelspec": {
   "display_name": "Python 3",
   "language": "python",
   "name": "python3"
  },
  "language_info": {
   "codemirror_mode": {
    "name": "ipython",
    "version": 3
   },
   "file_extension": ".py",
   "mimetype": "text/x-python",
   "name": "python",
   "nbconvert_exporter": "python",
   "pygments_lexer": "ipython3",
   "version": "3.13.7"
  }
 },
 "nbformat": 4,
 "nbformat_minor": 5
}
