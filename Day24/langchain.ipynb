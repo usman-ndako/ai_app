{
 "cells": [
  {
   "cell_type": "code",
   "execution_count": 1,
   "id": "46edcc04",
   "metadata": {},
   "outputs": [
    {
     "name": "stdout",
     "output_type": "stream",
     "text": [
      "✅ Environment and OpenRouter API configured successfully.\n"
     ]
    }
   ],
   "source": [
    "import os\n",
    "from dotenv import load_dotenv\n",
    "\n",
    "# Load .env variables\n",
    "load_dotenv()\n",
    "\n",
    "# Get the API key\n",
    "OPENROUTER_KEY = os.getenv(\"OPENROUTER_KEY\")\n",
    "if not OPENROUTER_KEY:\n",
    "    raise ValueError(\"⚠️ Missing OPENROUTER_KEY in .env file.\")\n",
    "\n",
    "# Set environment for LangChain\n",
    "os.environ[\"OPENAI_API_KEY\"] = OPENROUTER_KEY\n",
    "os.environ[\"OPENAI_BASE_URL\"] = \"https://openrouter.ai/api/v1\"\n",
    "\n",
    "print(\"✅ Environment and OpenRouter API configured successfully.\")\n"
   ]
  },
  {
   "cell_type": "code",
   "execution_count": 2,
   "id": "b6bef1b4",
   "metadata": {},
   "outputs": [
    {
     "name": "stderr",
     "output_type": "stream",
     "text": [
      "c:\\Users\\Blue\\AppData\\Local\\Programs\\Python\\Python313\\Lib\\site-packages\\tqdm\\auto.py:21: TqdmWarning: IProgress not found. Please update jupyter and ipywidgets. See https://ipywidgets.readthedocs.io/en/stable/user_install.html\n",
      "  from .autonotebook import tqdm as notebook_tqdm\n"
     ]
    }
   ],
   "source": [
    "from langchain_openai import ChatOpenAI\n",
    "from langchain.memory import ChatMessageHistory\n",
    "from langchain_core.runnables.history import RunnableWithMessageHistory\n",
    "from langchain_core.prompts import ChatPromptTemplate, MessagesPlaceholder\n",
    "from langchain_core.messages import HumanMessage, AIMessage"
   ]
  },
  {
   "cell_type": "code",
   "execution_count": 3,
   "id": "ccc153bb",
   "metadata": {},
   "outputs": [
    {
     "name": "stdout",
     "output_type": "stream",
     "text": [
      "✅ Chatbot initialized with message-based memory.\n"
     ]
    }
   ],
   "source": [
    "# Create a message prompt template\n",
    "prompt = ChatPromptTemplate.from_messages([\n",
    "    (\"system\", \"You are a helpful and professional AI assistant.\"),\n",
    "    MessagesPlaceholder(variable_name=\"history\"),\n",
    "    (\"human\", \"{input}\")\n",
    "])\n",
    "\n",
    "# Initialize the OpenRouter model\n",
    "llm = ChatOpenAI(\n",
    "    model=\"gpt-4o-mini\",  # change to gpt-4o for higher quality\n",
    "    temperature=0.7\n",
    ")\n",
    "\n",
    "# Define session storage for memory\n",
    "store = {}\n",
    "\n",
    "def get_session_history(session_id: str) -> ChatMessageHistory:\n",
    "    if session_id not in store:\n",
    "        store[session_id] = ChatMessageHistory()\n",
    "    return store[session_id]\n",
    "\n",
    "# Combine everything into a memory-aware chain\n",
    "chatbot = RunnableWithMessageHistory(\n",
    "    runnable = prompt | llm,\n",
    "    get_session_history = get_session_history,\n",
    "    input_messages_key = \"input\",\n",
    "    history_messages_key = \"history\"\n",
    ")\n",
    "\n",
    "print(\"✅ Chatbot initialized with message-based memory.\")"
   ]
  },
  {
   "cell_type": "code",
   "execution_count": 4,
   "id": "a1c5a149",
   "metadata": {},
   "outputs": [
    {
     "name": "stdout",
     "output_type": "stream",
     "text": [
      "Bot: Argentina won the FIFA World Cup in 2022. They defeated France in the final, which ended in a dramatic penalty shootout after a 3-3 draw in regulation and extra time. This victory marked Argentina's third World Cup title, with their previous wins occurring in 1978 and 1986.\n",
      "Bot: You asked who won the FIFA World Cup in 2022.\n"
     ]
    }
   ],
   "source": [
    "session_id = \"user_001\"\n",
    "\n",
    "response1 = chatbot.invoke(\n",
    "    {\"input\": \"Hello, who won the FIFA World Cup in 2022?\"},\n",
    "    config={\"configurable\": {\"session_id\": session_id}}\n",
    ")\n",
    "print(\"Bot:\", response1.content)\n",
    "\n",
    "response2 = chatbot.invoke(\n",
    "    {\"input\": \"Can you remind me what I just asked?\"},\n",
    "    config={\"configurable\": {\"session_id\": session_id}}\n",
    ")\n",
    "print(\"Bot:\", response2.content)\n"
   ]
  }
 ],
 "metadata": {
  "kernelspec": {
   "display_name": "Python 3",
   "language": "python",
   "name": "python3"
  },
  "language_info": {
   "codemirror_mode": {
    "name": "ipython",
    "version": 3
   },
   "file_extension": ".py",
   "mimetype": "text/x-python",
   "name": "python",
   "nbconvert_exporter": "python",
   "pygments_lexer": "ipython3",
   "version": "3.13.7"
  }
 },
 "nbformat": 4,
 "nbformat_minor": 5
}
