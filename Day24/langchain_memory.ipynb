{
 "cells": [
  {
   "cell_type": "code",
   "execution_count": 1,
   "id": "1267391d",
   "metadata": {},
   "outputs": [
    {
     "name": "stderr",
     "output_type": "stream",
     "text": [
      "c:\\Users\\Blue\\AppData\\Local\\Programs\\Python\\Python313\\Lib\\site-packages\\tqdm\\auto.py:21: TqdmWarning: IProgress not found. Please update jupyter and ipywidgets. See https://ipywidgets.readthedocs.io/en/stable/user_install.html\n",
      "  from .autonotebook import tqdm as notebook_tqdm\n"
     ]
    }
   ],
   "source": [
    "from langchain_openai import ChatOpenAI\n",
    "from langchain.memory import ConversationBufferMemory\n",
    "from langchain.chains import ConversationChain\n",
    "import os"
   ]
  },
  {
   "cell_type": "code",
   "execution_count": 2,
   "id": "26b02228",
   "metadata": {},
   "outputs": [
    {
     "name": "stdout",
     "output_type": "stream",
     "text": [
      "✅ OpenRouter API key loaded successfully.\n"
     ]
    }
   ],
   "source": [
    "# Option 2: Secure input prompt (if you don’t want the key saved in the notebook)\n",
    "from getpass import getpass\n",
    "os.environ[\"OPENAI_API_KEY\"] = getpass(\"Enter your OpenRouter key: \")\n",
    "os.environ[\"OPENAI_API_BASE\"] = \"https://openrouter.ai/api/v1\"\n",
    "\n",
    "print(\"✅ OpenRouter API key loaded successfully.\")"
   ]
  },
  {
   "cell_type": "code",
   "execution_count": 3,
   "id": "370e2ca6",
   "metadata": {},
   "outputs": [
    {
     "name": "stderr",
     "output_type": "stream",
     "text": [
      "C:\\Users\\Blue\\AppData\\Local\\Temp\\ipykernel_2160\\1274395588.py:6: LangChainDeprecationWarning: Please see the migration guide at: https://python.langchain.com/docs/versions/migrating_memory/\n",
      "  memory = ConversationBufferMemory()\n",
      "C:\\Users\\Blue\\AppData\\Local\\Temp\\ipykernel_2160\\1274395588.py:8: LangChainDeprecationWarning: The class `ConversationChain` was deprecated in LangChain 0.2.7 and will be removed in 1.0. Use :class:`~langchain_core.runnables.history.RunnableWithMessageHistory` instead.\n",
      "  chatbot = ConversationChain(\n"
     ]
    },
    {
     "name": "stdout",
     "output_type": "stream",
     "text": [
      "✅ Chatbot initialized with memory support.\n"
     ]
    }
   ],
   "source": [
    "llm = ChatOpenAI(\n",
    "    model=\"gpt-4o-mini\",  # You can also try gpt-3.5-turbo or other supported models\n",
    "    temperature=0.7\n",
    ")\n",
    "\n",
    "memory = ConversationBufferMemory()\n",
    "\n",
    "chatbot = ConversationChain(\n",
    "    llm=llm,\n",
    "    memory=memory,\n",
    "    verbose=True\n",
    ")\n",
    "\n",
    "print(\"✅ Chatbot initialized with memory support.\")"
   ]
  },
  {
   "cell_type": "code",
   "execution_count": 4,
   "id": "76ae1f20",
   "metadata": {},
   "outputs": [
    {
     "name": "stdout",
     "output_type": "stream",
     "text": [
      "\n",
      "\n",
      "\u001b[1m> Entering new ConversationChain chain...\u001b[0m\n",
      "Prompt after formatting:\n",
      "\u001b[32;1m\u001b[1;3mThe following is a friendly conversation between a human and an AI. The AI is talkative and provides lots of specific details from its context. If the AI does not know the answer to a question, it truthfully says it does not know.\n",
      "\n",
      "Current conversation:\n",
      "\n",
      "Human: Hello, who are you?\n",
      "AI:\u001b[0m\n",
      "\n",
      "\u001b[1m> Finished chain.\u001b[0m\n",
      "Hello! I'm an AI designed to assist you with a variety of topics, from answering questions and providing information to engaging in friendly conversation. I have a wealth of knowledge on many subjects, so feel free to ask me anything you're curious about! How can I help you today?\n",
      "\n",
      "\n",
      "\u001b[1m> Entering new ConversationChain chain...\u001b[0m\n",
      "Prompt after formatting:\n",
      "\u001b[32;1m\u001b[1;3mThe following is a friendly conversation between a human and an AI. The AI is talkative and provides lots of specific details from its context. If the AI does not know the answer to a question, it truthfully says it does not know.\n",
      "\n",
      "Current conversation:\n",
      "Human: Hello, who are you?\n",
      "AI: Hello! I'm an AI designed to assist you with a variety of topics, from answering questions and providing information to engaging in friendly conversation. I have a wealth of knowledge on many subjects, so feel free to ask me anything you're curious about! How can I help you today?\n",
      "Human: Can you remind me what I just asked you?\n",
      "AI:\u001b[0m\n",
      "\n",
      "\u001b[1m> Finished chain.\u001b[0m\n",
      "You just asked me who I am! I explained that I'm an AI designed to assist with various topics and engage in conversation. What would you like to talk about next?\n",
      "\n",
      "\n",
      "\u001b[1m> Entering new ConversationChain chain...\u001b[0m\n",
      "Prompt after formatting:\n",
      "\u001b[32;1m\u001b[1;3mThe following is a friendly conversation between a human and an AI. The AI is talkative and provides lots of specific details from its context. If the AI does not know the answer to a question, it truthfully says it does not know.\n",
      "\n",
      "Current conversation:\n",
      "Human: Hello, who are you?\n",
      "AI: Hello! I'm an AI designed to assist you with a variety of topics, from answering questions and providing information to engaging in friendly conversation. I have a wealth of knowledge on many subjects, so feel free to ask me anything you're curious about! How can I help you today?\n",
      "Human: Can you remind me what I just asked you?\n",
      "AI: You just asked me who I am! I explained that I'm an AI designed to assist with various topics and engage in conversation. What would you like to talk about next?\n",
      "Human: Now tell me a fun fact about AI startups.\n",
      "AI:\u001b[0m\n",
      "\n",
      "\u001b[1m> Finished chain.\u001b[0m\n",
      "Sure! One fun fact about AI startups is that many of them are founded by individuals with diverse backgrounds, not just those with traditional tech or computer science degrees. For instance, some successful AI startups have been launched by professionals from fields like healthcare, finance, or even the arts! This diversity brings unique perspectives to AI development, often leading to innovative solutions that address specific industry challenges. Plus, the global nature of AI means that these startups can emerge from anywhere in the world, creating a vibrant and dynamic ecosystem. Are you interested in any particular AI startup or sector?\n"
     ]
    }
   ],
   "source": [
    "print(chatbot.predict(input=\"Hello, who are you?\"))\n",
    "print(chatbot.predict(input=\"Can you remind me what I just asked you?\"))\n",
    "print(chatbot.predict(input=\"Now tell me a fun fact about AI startups.\"))\n"
   ]
  }
 ],
 "metadata": {
  "kernelspec": {
   "display_name": "Python 3",
   "language": "python",
   "name": "python3"
  },
  "language_info": {
   "codemirror_mode": {
    "name": "ipython",
    "version": 3
   },
   "file_extension": ".py",
   "mimetype": "text/x-python",
   "name": "python",
   "nbconvert_exporter": "python",
   "pygments_lexer": "ipython3",
   "version": "3.13.7"
  }
 },
 "nbformat": 4,
 "nbformat_minor": 5
}
